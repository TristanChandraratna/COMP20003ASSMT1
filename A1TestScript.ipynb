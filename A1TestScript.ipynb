//%test_script:basic_ass1_tests.sh

int main(){
    return 0;
}